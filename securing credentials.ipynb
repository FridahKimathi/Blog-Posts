{
 "cells": [
  {
   "cell_type": "markdown",
   "metadata": {},
   "source": [
    "**1. Using a .secrets Folder with a JSON File**"
   ]
  },
  {
   "cell_type": "code",
   "execution_count": null,
   "metadata": {},
   "outputs": [],
   "source": [
    "import json\n",
    "\n",
    "# Replace `path to the .json file` with the actual file path\n",
    "json_file_path = r\"path to the .json file\"\n",
    "\n",
    "with open(json_file_path, \"r\") as f:\n",
    "    credentials = json.load(f)\n",
    "\n",
    "# To access the username and password\n",
    "username = credentials[\"username\"]\n",
    "password = credentials[\"password\"]"
   ]
  },
  {
   "cell_type": "code",
   "execution_count": 7,
   "metadata": {},
   "outputs": [
    {
     "data": {
      "text/plain": [
       "{'username': 'your_username',\n",
       " 'password': 'your_password',\n",
       " 'email_receivers': ['xyz@gmail', 'abc@gmail']}"
      ]
     },
     "execution_count": 7,
     "metadata": {},
     "output_type": "execute_result"
    }
   ],
   "source": [
    "credentials"
   ]
  },
  {
   "cell_type": "code",
   "execution_count": 10,
   "metadata": {},
   "outputs": [],
   "source": [
    "username = credentials[\"username\"]\n",
    "password = credentials[\"password\"]"
   ]
  },
  {
   "cell_type": "markdown",
   "metadata": {},
   "source": [
    "2. **Using Environment Variables**"
   ]
  },
  {
   "cell_type": "markdown",
   "metadata": {},
   "source": [
    "Using Environment Variables\n",
    "\n",
    "- Open the Windows search bar.\n",
    "- Type in `control panel` and open it.\n",
    "- Select S`ystem and Security`\n",
    "- Choose `System`.\n",
    "- Click on `Advanced system settings`\n",
    "- Click on` Environment Variables`\n",
    "- Under the \"`User variables`\" section, click `New...`\n",
    "- Enter` Variable name` (e.g., username) and `Variable value` (e.g.,` your_username`).\n",
    "- Repeat the process for the password by creating a new variable"
   ]
  },
  {
   "cell_type": "code",
   "execution_count": null,
   "metadata": {},
   "outputs": [],
   "source": [
    "# To access Environment variables in Python\n",
    "import os\n",
    "\n",
    "# Username\n",
    "username = os.getenv(\"username\")\n",
    "\n",
    "# Password\n",
    "password = os.getenv(\"password\")\n",
    "\n",
    "# NB: If your vs code was open before creating the environment variables, you need to restart it for the changes to take effect"
   ]
  },
  {
   "cell_type": "markdown",
   "metadata": {},
   "source": [
    "**3. .py file**"
   ]
  },
  {
   "cell_type": "code",
   "execution_count": 1,
   "metadata": {},
   "outputs": [],
   "source": [
    "import securing_credentials"
   ]
  },
  {
   "cell_type": "code",
   "execution_count": 4,
   "metadata": {},
   "outputs": [],
   "source": [
    "username = securing_credentials.username\n",
    "password = securing_credentials.password"
   ]
  },
  {
   "cell_type": "markdown",
   "metadata": {},
   "source": [
    "**Sending Emails**"
   ]
  },
  {
   "cell_type": "code",
   "execution_count": 11,
   "metadata": {},
   "outputs": [],
   "source": [
    "import os\n",
    "from email.message import EmailMessage\n",
    "import ssl, smtplib\n",
    "from email.mime.multipart import MIMEMultipart\n",
    "from email.mime.text import MIMEText\n",
    "from email.mime.application import MIMEApplication"
   ]
  },
  {
   "cell_type": "code",
   "execution_count": 12,
   "metadata": {},
   "outputs": [],
   "source": [
    " html = '''\n",
    "            <html>\n",
    "                <head>\n",
    "                    <style>\n",
    "                        P{{font-family: Calibri; font-size: 17px;}}\n",
    "                    </style>\n",
    "                </head>\n",
    "                <body>\n",
    "                    <p>Hi, <br> This is a sample Email</p>                                 \n",
    "                        <hr> \n",
    "                <P>Regards, <br> BCD</P>                        \n",
    "                </body>\n",
    "            </html>\n",
    "            '''"
   ]
  },
  {
   "cell_type": "code",
   "execution_count": 15,
   "metadata": {},
   "outputs": [],
   "source": [
    "# Stored as Environment Variables\n",
    "email_from = os.getenv(\"EMAIL\")\n",
    "password = os.getenv(\"PASSWORD\")\n",
    "\n",
    "# Email receivers\n",
    "receivers = ','.join(credentials[\"email_receivers\"])\n",
    "\n",
    "email_message = MIMEMultipart()\n",
    "\n",
    "email_message[\"From\"] = email_from\n",
    "email_message[\"To\"] = receivers\n",
    "email_message[\"Subject\"] = f\"This is a sample email\" \n",
    "email_message.attach(MIMEText(html, \"html\"))\n",
    "\n",
    "def attach_file_to_email(email, filename):\n",
    "    \"\"\"Attach a file identified by filename to email message\"\"\"\n",
    "    with open(filename, 'rb') as file:\n",
    "        file_data = MIMEApplication(file.read(), _subtype= filename.split(\".\")[1])\n",
    "        file_data.add_header('Content-Disposition', 'attachment', filename=filename)\n",
    "        email.attach(file_data)\n",
    "    \n",
    "\n",
    "file_names = [\"Styled Excel.xlsx\", \"Styled Excel-2.xlsx\"]\n",
    "\n",
    "# Attach all the files\n",
    "for file_name in file_names:\n",
    "    attach_file_to_email(email_message, file_name)\n",
    "    \n",
    "\n",
    "# Email content\n",
    "email_string = email_message.as_string()\n",
    "\n",
    "# ssl context used to secure connection with the email server\n",
    "context = ssl.create_default_context()\n",
    "\n",
    "# Send email using Simple Mail Transfer Protocol (SMTP)\n",
    "# SMTP server connection\n",
    "with smtplib.SMTP(\"smtp.gmail.com\", 587) as server:\n",
    "    #(Extended Hello) Greet the server to initiate a conversation with the server\n",
    "    server.ehlo()\n",
    "    # Start a Transport Layer Security(TLS) connection with the server\n",
    "    # SSL context created earlier is passed to ensure secure communication\n",
    "    server.starttls(context=context)\n",
    "    # After starting TLS, resend th ehlo command to inform the server that you now support encrypted communication\n",
    "    server.ehlo()\n",
    "    # Log into the gmail account using the credentials provided\n",
    "    server.login(email_from, password)\n",
    "    # Send the email\n",
    "    server.sendmail(email_from, receivers, email_string)\n",
    "    "
   ]
  }
 ],
 "metadata": {
  "kernelspec": {
   "display_name": "Finance_Automation_Env",
   "language": "python",
   "name": "python3"
  },
  "language_info": {
   "codemirror_mode": {
    "name": "ipython",
    "version": 3
   },
   "file_extension": ".py",
   "mimetype": "text/x-python",
   "name": "python",
   "nbconvert_exporter": "python",
   "pygments_lexer": "ipython3",
   "version": "3.11.5"
  }
 },
 "nbformat": 4,
 "nbformat_minor": 2
}
